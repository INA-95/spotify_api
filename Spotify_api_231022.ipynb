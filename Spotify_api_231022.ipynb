{
  "nbformat": 4,
  "nbformat_minor": 0,
  "metadata": {
    "colab": {
      "provenance": [],
      "authorship_tag": "ABX9TyMJdU1+L70PCgVh42o1FS4J",
      "include_colab_link": true
    },
    "kernelspec": {
      "name": "python3",
      "display_name": "Python 3"
    },
    "language_info": {
      "name": "python"
    }
  },
  "cells": [
    {
      "cell_type": "markdown",
      "metadata": {
        "id": "view-in-github",
        "colab_type": "text"
      },
      "source": [
        "<a href=\"https://colab.research.google.com/github/INA-95/spotify_api/blob/main/Spotify_api_231022.ipynb\" target=\"_parent\"><img src=\"https://colab.research.google.com/assets/colab-badge.svg\" alt=\"Open In Colab\"/></a>"
      ]
    },
    {
      "cell_type": "code",
      "source": [
        "# library\n",
        "\n",
        "import requests\n",
        "import base64\n",
        "import pandas as pd"
      ],
      "metadata": {
        "id": "kF_B9frm71ZH"
      },
      "execution_count": 1,
      "outputs": []
    },
    {
      "cell_type": "code",
      "source": [
        "# function\n",
        "\n",
        "# authorization\n",
        "\n",
        "def get_access_token(client_id:str, client_secret:str) -> str:\n",
        "    auth_url = 'https://accounts.spotify.com/api/token'\n",
        "    auth_header = {\n",
        "        'Authorization': f'Basic {base64.b64encode((client_id + \":\" + client_secret).encode()).decode()}'\n",
        "    }\n",
        "\n",
        "    auth_data = {\n",
        "        'grant_type': 'client_credentials',\n",
        "        'client_id' : client_id,\n",
        "        'client_secret' : client_secret\n",
        "    }\n",
        "\n",
        "    auth_response = requests.post(auth_url, data = auth_data, headers = auth_header)\n",
        "    auth_response_data = auth_response.json()\n",
        "    access_token = auth_response_data['access_token']\n",
        "    return access_token\n",
        "\n",
        "\n",
        "# get your playlists\n",
        "\n",
        "def get_playlists(access_token:str, user_name:str) -> dict:\n",
        "    headers = {\"Authorization\" : f\"Bearer {access_token}\"}\n",
        "    res = requests.get(\n",
        "        f\"https://api.spotify.com/v1/users/{user_name}/playlists\",\n",
        "        headers = headers\n",
        "    )\n",
        "\n",
        "    playlist_array = res.json()['items']\n",
        "    playlist_dict = {playlist['id']:playlist['name'] for playlist in playlist_array}\n",
        "\n",
        "    return playlist_dict\n",
        "\n",
        "\n",
        "# get your tracks (playlist > track)\n",
        "\n",
        "def get_playlist_tracks(access_token:str, playlist_dict:list[str], user_name:str) -> dict:\n",
        "    headers = {\"Authorization\": f\"Bearer {access_token}\"}\n",
        "    offset = 0\n",
        "\n",
        "    tracks = []\n",
        "    playlist_ids = [playlist_id for playlist_id in playlist_dict.keys()]\n",
        "\n",
        "    for playlist_id in playlist_ids:\n",
        "\n",
        "        res = requests.get(\n",
        "            f\"https://api.spotify.com/v1/users/{user_name}/playlists/{playlist_id}/tracks?offset={offset}\",\n",
        "            headers=headers\n",
        "        )\n",
        "        track = res.json()\n",
        "        tracks.append(track)\n",
        "\n",
        "    return tracks\n",
        "\n",
        "# get artist, title, track_id\n",
        "\n",
        "def get_track_info(tracks:list[dict[str]]) -> pd.DataFrame:\n",
        "\n",
        "    artists = []\n",
        "    titles = []\n",
        "    track_ids = []\n",
        "\n",
        "    for track in tracks:\n",
        "        for val in track['items']:\n",
        "            track_info = val.get('track')\n",
        "\n",
        "            artist = track_info.get('artists')\n",
        "            artist = artist[0]['name']\n",
        "\n",
        "            title = track_info.get('name')\n",
        "            track_id = val.get('track')['uri'].split(':')[-1]\n",
        "\n",
        "            artists.append(artist)\n",
        "            titles.append(title)\n",
        "            track_ids.append(track_id)\n",
        "\n",
        "        df = pd.DataFrame(list(zip(titles, artists, track_ids)),\n",
        "                        columns = ['title', 'artist', 'track_id'])\n",
        "\n",
        "    return df\n",
        "\n",
        "\n",
        "# get your tracks audio feature\n",
        "\n",
        "def tracks_audio_features(access_token:str, track_ids:list[str]) -> pd.DataFrame:\n",
        "\n",
        "    feature_lst = []\n",
        "\n",
        "    for track_id in track_ids:\n",
        "        headers = {\"Authorization\" : f\"Bearer {access_token}\"}\n",
        "        res = requests.get(\n",
        "            f\"https://api.spotify.com/v1/audio-features/{track_id}\",\n",
        "            headers = headers\n",
        "        )\n",
        "        feature = res.json()\n",
        "\n",
        "        feature_lst.append(feature)\n",
        "        df = pd.DataFrame.from_dict(feature_lst)\n",
        "\n",
        "    return df"
      ],
      "metadata": {
        "id": "0t9yX69lMZVS"
      },
      "execution_count": 102,
      "outputs": []
    }
  ]
}